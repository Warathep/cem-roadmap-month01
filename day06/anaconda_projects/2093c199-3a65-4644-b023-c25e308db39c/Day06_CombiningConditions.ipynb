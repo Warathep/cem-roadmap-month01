{
 "cells": [
  {
   "cell_type": "markdown",
   "id": "19ef82ce-cf5a-44e5-99a9-e7b3c404fb91",
   "metadata": {},
   "source": [
    "# Day 06 - Combining Conditions: ใช้ and, or, not\n",
    "จุดประสงค์: เรียนรู้การเชื่อมเงื่อนไขหลายแบบใน if-else"
   ]
  },
  {
   "cell_type": "code",
   "execution_count": 2,
   "id": "8ed9e0dd-afa8-4c71-852c-f9ff17625d6f",
   "metadata": {},
   "outputs": [
    {
     "name": "stdin",
     "output_type": "stream",
     "text": [
      "กรอกอายุ:  18\n",
      "มีตั๋วหรือไม่ (y/n):  Y\n"
     ]
    },
    {
     "name": "stdout",
     "output_type": "stream",
     "text": [
      "สามารถเข้าชมงานได้\n"
     ]
    }
   ],
   "source": [
    "age = int(input(\"กรอกอายุ: \"))\n",
    "has_ticket = input(\"มีตั๋วหรือไม่ (y/n): \")\n",
    "\n",
    "if age >= 18 and has_ticket.lower() == \"y\":\n",
    "    print(\"สามารถเข้าชมงานได้\")\n",
    "else:\n",
    "    print(\"ไม่สามารถเข้าชมงานได้\")"
   ]
  },
  {
   "cell_type": "code",
   "execution_count": 5,
   "id": "6ddd67b3-fa11-4dd0-b8c5-43e2bcb5a89c",
   "metadata": {},
   "outputs": [
    {
     "name": "stdin",
     "output_type": "stream",
     "text": [
      "วันนี้เป็นวันอะไร:  เสาร์\n"
     ]
    },
    {
     "name": "stdout",
     "output_type": "stream",
     "text": [
      "วันนี้เป็นวันหยุด\n"
     ]
    }
   ],
   "source": [
    "day = input(\"วันนี้เป็นวันอะไร: \")\n",
    "\n",
    "if day.lower() == \"เสาร์\" or day.lower() == \"อาทิตย์\":\n",
    "    print(\"วันนี้เป็นวันหยุด\")\n",
    "else:\n",
    "    print(\"วันนี้เป็นวันทำงาน\")"
   ]
  },
  {
   "cell_type": "code",
   "execution_count": 8,
   "id": "630f714b-a691-4620-9bb8-afc197713077",
   "metadata": {},
   "outputs": [
    {
     "name": "stdin",
     "output_type": "stream",
     "text": [
      "ฝนตกหรือไม่ (y/n):  n\n"
     ]
    },
    {
     "name": "stdout",
     "output_type": "stream",
     "text": [
      "ออกไปเดินเล่นได้\n"
     ]
    }
   ],
   "source": [
    "is_raining = input(\"ฝนตกหรือไม่ (y/n): \")\n",
    "\n",
    "if not (is_raining.lower() == \"y\"):\n",
    "    print(\"ออกไปเดินเล่นได้\")\n",
    "else:\n",
    "    print(\"ควรพกร่ม\")"
   ]
  },
  {
   "cell_type": "code",
   "execution_count": 17,
   "id": "179a672e-d4c2-432d-aeaa-cd4122648e5f",
   "metadata": {},
   "outputs": [
    {
     "name": "stdout",
     "output_type": "stream",
     "text": [
      "เปิดเครื่องทำความเย็น\n"
     ]
    }
   ],
   "source": [
    "temp = 32\n",
    "humidity = 40\n",
    "\n",
    "if (temp > 30 and humidity < 50) or temp > 35:\n",
    "    print(\"เปิดเครื่องทำความเย็น\")\n",
    "else:\n",
    "    print(\"ไม่ต้องทำอะไรทั้งนั้น\")"
   ]
  }
 ],
 "metadata": {
  "kernelspec": {
   "display_name": "Python 3 (ipykernel)",
   "language": "python",
   "name": "python3"
  },
  "language_info": {
   "codemirror_mode": {
    "name": "ipython",
    "version": 3
   },
   "file_extension": ".py",
   "mimetype": "text/x-python",
   "name": "python",
   "nbconvert_exporter": "python",
   "pygments_lexer": "ipython3",
   "version": "3.13.5"
  }
 },
 "nbformat": 4,
 "nbformat_minor": 5
}
