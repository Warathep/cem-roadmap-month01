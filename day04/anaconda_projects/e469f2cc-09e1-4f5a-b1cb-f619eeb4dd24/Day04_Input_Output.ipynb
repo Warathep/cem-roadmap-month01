{
 "cells": [
  {
   "cell_type": "markdown",
   "id": "e30855db-810f-4c0a-9af9-a94f8e705c44",
   "metadata": {},
   "source": [
    "# Day 04 - Input & Output\n",
    "จุดประสงค์: เรียนรู้การรับค่าจากผู้ใช้และการแสดงผล"
   ]
  },
  {
   "cell_type": "markdown",
   "id": "53501a1f-124e-459c-9db6-2ae7324cf462",
   "metadata": {},
   "source": [
    "**1. การใช้ `input()`**\n",
    "\n",
    "- ใช้เพื่อรับข้อมูลจากผู้ใช้\n",
    "- ข้อมูลที่ได้จะเป็น **string** เสมอ\n",
    "- ตัวอย่าง:"
   ]
  },
  {
   "cell_type": "code",
   "execution_count": 2,
   "id": "f50c0044-4aa9-426f-a41d-9c5b43c1100b",
   "metadata": {},
   "outputs": [
    {
     "name": "stdin",
     "output_type": "stream",
     "text": [
      "กรุณากรอกชื่อของคุณ:  Top\n"
     ]
    },
    {
     "name": "stdout",
     "output_type": "stream",
     "text": [
      "สวัสดี Top\n"
     ]
    }
   ],
   "source": [
    "name = input(\"กรุณากรอกชื่อของคุณ: \")\n",
    "print(\"สวัสดี\", name)"
   ]
  },
  {
   "cell_type": "markdown",
   "id": "ea78cc58-f677-4f27-83c1-f6fd436eb106",
   "metadata": {},
   "source": [
    "**2. การแปลงชนิดข้อมูล (Type Casting)**\n",
    "\n",
    "- ถ้าต้องการคำนวณ ต้องแปลง string เป็นตัวเลข\n",
    "- ใช้ `int()` สำหรับจำนวนเต็ม, `float()` สำหรับทศนิยม\n",
    "- ตัวอย่าง:"
   ]
  },
  {
   "cell_type": "code",
   "execution_count": 3,
   "id": "8d8c4671-e9dd-46b5-be48-452675ba756b",
   "metadata": {},
   "outputs": [
    {
     "name": "stdin",
     "output_type": "stream",
     "text": [
      "กรุณากรอกอายุของคุณ:  30\n"
     ]
    },
    {
     "name": "stdout",
     "output_type": "stream",
     "text": [
      "อีก 5 ปี คุณจะมีอายุ 35 ปี\n"
     ]
    }
   ],
   "source": [
    "age = int(input(\"กรุณากรอกอายุของคุณ: \"))\n",
    "print(\"อีก 5 ปี คุณจะมีอายุ\", age + 5, \"ปี\")"
   ]
  },
  {
   "cell_type": "markdown",
   "id": "61cc9d19-2a09-4c62-bb2e-5a357d44d7f5",
   "metadata": {},
   "source": [
    "**3. การใช้ `print()` แสดงผลหลายค่า**\n",
    "\n",
    "- สามารถใส่หลายค่าคั่นด้วยเครื่องหมายจุลภาค `,`\n",
    "- Python จะเว้นวรรคให้โดยอัตโนมัติ\n",
    "- ตัวอย่าง:"
   ]
  },
  {
   "cell_type": "code",
   "execution_count": 4,
   "id": "022e483a-dba5-4eb6-84b9-c12c207037ad",
   "metadata": {},
   "outputs": [
    {
     "name": "stdout",
     "output_type": "stream",
     "text": [
      "ผลบวกของ 2 และ 3 คือ 5\n"
     ]
    }
   ],
   "source": [
    "print(\"ผลบวกของ 2 และ 3 คือ\", 2 + 3)"
   ]
  },
  {
   "cell_type": "code",
   "execution_count": 5,
   "id": "1ffb4972-bdb7-4f1c-b19c-4048ba595f76",
   "metadata": {},
   "outputs": [
    {
     "name": "stdin",
     "output_type": "stream",
     "text": [
      "กรอกความกว้าง (เมตร):  5\n",
      "กรอกความสูง (เมตร):  10\n"
     ]
    },
    {
     "name": "stdout",
     "output_type": "stream",
     "text": [
      "พื้นที่คือ 50.0 ตารางเมตร\n"
     ]
    }
   ],
   "source": [
    "# โปรแกรมคำนวณพื้นที่สี่เหลี่ยมผืนผ้า\n",
    "width = float(input(\"กรอกความกว้าง (เมตร): \"))\n",
    "height = float(input(\"กรอกความสูง (เมตร): \"))\n",
    "area = width * height\n",
    "print(\"พื้นที่คือ\", area, \"ตารางเมตร\")"
   ]
  }
 ],
 "metadata": {
  "kernelspec": {
   "display_name": "Python 3 (ipykernel)",
   "language": "python",
   "name": "python3"
  },
  "language_info": {
   "codemirror_mode": {
    "name": "ipython",
    "version": 3
   },
   "file_extension": ".py",
   "mimetype": "text/x-python",
   "name": "python",
   "nbconvert_exporter": "python",
   "pygments_lexer": "ipython3",
   "version": "3.13.5"
  }
 },
 "nbformat": 4,
 "nbformat_minor": 5
}
