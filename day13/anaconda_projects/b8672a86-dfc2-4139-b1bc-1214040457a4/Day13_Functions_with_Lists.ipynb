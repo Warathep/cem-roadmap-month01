{
 "cells": [
  {
   "cell_type": "markdown",
   "id": "65e83d7f-a239-4ad8-a8ed-fbe78c77223e",
   "metadata": {},
   "source": [
    "# Day 13 - Functions + Lists\n",
    "จุดประสงค์: ฝึกใช้ฟังก์ชันประมวลผลข้อมูลใน list"
   ]
  },
  {
   "cell_type": "markdown",
   "id": "19f0c290-1eef-430c-9413-4f53303b4fd9",
   "metadata": {},
   "source": [
    "1. ฟังก์ชันหาค่าเฉลี่ยจาก list"
   ]
  },
  {
   "cell_type": "code",
   "execution_count": 2,
   "id": "5d2b1395-8a74-45cd-b49f-8c165c4a93e5",
   "metadata": {},
   "outputs": [
    {
     "name": "stdout",
     "output_type": "stream",
     "text": [
      "ค่าเฉลี่ย = 86.6\n"
     ]
    }
   ],
   "source": [
    "def average(numbers):\n",
    "    return sum(numbers) / len(numbers)\n",
    "\n",
    "scores = [85, 90, 78, 92, 88]\n",
    "print(\"ค่าเฉลี่ย =\", average(scores))"
   ]
  },
  {
   "cell_type": "markdown",
   "id": "db65608c-b2a3-4466-8a47-000dfa3f9b46",
   "metadata": {},
   "source": [
    "2. ฟังก์ชันหาค่าสูงสุดและต่ำสุด"
   ]
  },
  {
   "cell_type": "code",
   "execution_count": 3,
   "id": "8f2bfe68-4ada-4094-a375-1d47d4c2e332",
   "metadata": {},
   "outputs": [
    {
     "name": "stdout",
     "output_type": "stream",
     "text": [
      "ค่าต่ำสุด = 2\n",
      "ค่าสูงสุด = 9\n"
     ]
    }
   ],
   "source": [
    "def min_max(values):\n",
    "    return min(values), max(values)\n",
    "\n",
    "data = [3, 7, 2, 9, 5]\n",
    "lowest, highest = min_max(data)\n",
    "\n",
    "print(\"ค่าต่ำสุด =\", lowest)\n",
    "print(\"ค่าสูงสุด =\", highest)\n",
    "\n"
   ]
  },
  {
   "cell_type": "markdown",
   "id": "19b0aeca-a154-4224-8392-5f49302b79cb",
   "metadata": {},
   "source": [
    "3. ฟังก์ชันกรองข้อมูล (Filter)"
   ]
  },
  {
   "cell_type": "code",
   "execution_count": 5,
   "id": "adceee29-9903-46cc-83c5-25d71b95dfe1",
   "metadata": {},
   "outputs": [
    {
     "name": "stdout",
     "output_type": "stream",
     "text": [
      "อุณหภูมิที่เกิน 33°C: [34.2, 35.0]\n"
     ]
    }
   ],
   "source": [
    "def filter_above_threshold(values, threshold):\n",
    "    result = []\n",
    "    for v in values:\n",
    "        if v > threshold:\n",
    "            result.append(v)\n",
    "    return result\n",
    "\n",
    "temps = [32.5, 33.0, 31.8, 34.2, 35.0]\n",
    "print(\"อุณหภูมิที่เกิน 33°C:\", filter_above_threshold(temps, 33))"
   ]
  },
  {
   "cell_type": "markdown",
   "id": "c090efa0-7d1b-4c41-8065-5eeea0c1141c",
   "metadata": {},
   "source": [
    "4. ฟังก์ชันแปลงข้อมูล (Transform)"
   ]
  },
  {
   "cell_type": "code",
   "execution_count": 6,
   "id": "917f218e-6ca8-45bd-a03c-ba3b71ef5352",
   "metadata": {},
   "outputs": [
    {
     "name": "stdout",
     "output_type": "stream",
     "text": [
      "กำลังสองทั้งหมด: [1, 4, 9, 16, 25]\n"
     ]
    }
   ],
   "source": [
    "def square_all(values):\n",
    "    return [v**2 for v in values]\n",
    "\n",
    "nums = [1, 2, 3, 4, 5]\n",
    "print(\"กำลังสองทั้งหมด:\", square_all(nums))"
   ]
  }
 ],
 "metadata": {
  "kernelspec": {
   "display_name": "Python 3 (ipykernel)",
   "language": "python",
   "name": "python3"
  },
  "language_info": {
   "codemirror_mode": {
    "name": "ipython",
    "version": 3
   },
   "file_extension": ".py",
   "mimetype": "text/x-python",
   "name": "python",
   "nbconvert_exporter": "python",
   "pygments_lexer": "ipython3",
   "version": "3.13.5"
  }
 },
 "nbformat": 4,
 "nbformat_minor": 5
}
