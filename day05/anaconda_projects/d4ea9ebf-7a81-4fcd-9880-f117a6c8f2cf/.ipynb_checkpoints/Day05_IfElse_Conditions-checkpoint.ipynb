{
 "cells": [
  {
   "cell_type": "markdown",
   "id": "36c80ccc-82f5-4635-8b19-adc524d24a35",
   "metadata": {},
   "source": [
    "# Day 05 - If-Else Conditions\n",
    "จุดประสงค์: เรียนรู้การตัดสินใจในโปรแกรมด้วย if, else, และ elif"
   ]
  },
  {
   "cell_type": "code",
   "execution_count": 1,
   "id": "edf827c7-ed5e-4c06-9cea-23f66b49ab20",
   "metadata": {},
   "outputs": [
    {
     "name": "stdin",
     "output_type": "stream",
     "text": [
      "กรอกคะแนนของคุณ:  80\n"
     ]
    },
    {
     "name": "stdout",
     "output_type": "stream",
     "text": [
      "คุณสอบผ่าน\n"
     ]
    }
   ],
   "source": [
    "score = int(input(\"กรอกคะแนนของคุณ: \"))\n",
    "\n",
    "if score >= 50:\n",
    "    print(\"คุณสอบผ่าน\")\n",
    "else:\n",
    "    print(\"คุณสอบไม่ผ่าน\")"
   ]
  },
  {
   "cell_type": "code",
   "execution_count": 7,
   "id": "d1b8125e-02f5-40de-a37a-eff941c03171",
   "metadata": {},
   "outputs": [
    {
     "name": "stdin",
     "output_type": "stream",
     "text": [
      "กรอกคะแนนของคุณ:  49\n"
     ]
    },
    {
     "name": "stdout",
     "output_type": "stream",
     "text": [
      "เกรด F\n"
     ]
    }
   ],
   "source": [
    "score = int(input(\"กรอกคะแนนของคุณ: \"))\n",
    "\n",
    "if score >= 80:\n",
    "    print(\"เกรด A\")\n",
    "elif score >= 70:\n",
    "    print(\"เกรด B\")\n",
    "elif score >= 60:\n",
    "    print(\"เกรด C\")\n",
    "elif score >= 50:\n",
    "    print(\"เกรด D\")\n",
    "else:\n",
    "    print(\"เกรด F\")"
   ]
  }
 ],
 "metadata": {
  "kernelspec": {
   "display_name": "Python 3 (ipykernel)",
   "language": "python",
   "name": "python3"
  },
  "language_info": {
   "codemirror_mode": {
    "name": "ipython",
    "version": 3
   },
   "file_extension": ".py",
   "mimetype": "text/x-python",
   "name": "python",
   "nbconvert_exporter": "python",
   "pygments_lexer": "ipython3",
   "version": "3.13.5"
  }
 },
 "nbformat": 4,
 "nbformat_minor": 5
}
