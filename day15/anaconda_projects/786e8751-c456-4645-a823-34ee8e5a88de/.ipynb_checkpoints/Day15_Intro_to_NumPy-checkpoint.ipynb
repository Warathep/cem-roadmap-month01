{
 "cells": [
  {
   "cell_type": "markdown",
   "id": "091265d2-e243-4be9-86dc-80df4284961a",
   "metadata": {},
   "source": [
    "# Day 15 - Introduction to NumPy\n",
    "จุดประสงค์: เรียนรู้การสร้างและใช้ NumPy array สำหรับการคำนวณเชิงตัวเลข"
   ]
  },
  {
   "cell_type": "markdown",
   "id": "6ef89ea1-d4e2-4a10-841e-fdb336bac26a",
   "metadata": {},
   "source": [
    "1. การนำเข้า NumPy"
   ]
  },
  {
   "cell_type": "code",
   "execution_count": 1,
   "id": "efe49aa6-71f9-4151-90fa-2eab37ba0b1c",
   "metadata": {},
   "outputs": [],
   "source": [
    "import numpy as np"
   ]
  },
  {
   "cell_type": "markdown",
   "id": "1325e3a0-b244-4291-8ac5-839c28d11727",
   "metadata": {},
   "source": [
    "2. การสร้าง Array"
   ]
  },
  {
   "cell_type": "code",
   "execution_count": 2,
   "id": "20e21d4b-e664-4a62-bda2-c73668c88fe7",
   "metadata": {},
   "outputs": [
    {
     "name": "stdout",
     "output_type": "stream",
     "text": [
      "[1 2 3 4 5]\n",
      "[[1 2]\n",
      " [3 4]]\n"
     ]
    }
   ],
   "source": [
    "# จาก list\n",
    "arr = np.array([1, 2, 3, 4, 5])\n",
    "print(arr)\n",
    "\n",
    "# Array 2 มิติ\n",
    "mat = np.array([[1, 2], [3, 4]])\n",
    "print(mat)"
   ]
  },
  {
   "cell_type": "markdown",
   "id": "1f4172a1-6dcd-4152-af8c-ecc657520b16",
   "metadata": {},
   "source": [
    "3. การสร้าง Array แบบพิเศษ"
   ]
  },
  {
   "cell_type": "code",
   "execution_count": 8,
   "id": "060ca29b-5260-4c3c-b888-067d7ed04e8d",
   "metadata": {},
   "outputs": [
    {
     "data": {
      "text/plain": [
       "array([0.  , 0.25, 0.5 , 0.75, 1.  ])"
      ]
     },
     "execution_count": 8,
     "metadata": {},
     "output_type": "execute_result"
    }
   ],
   "source": [
    "np.zeros(5)        # Array ขนาด 5 ค่าเป็นศูนย์\n",
    "np.ones((2, 3))    # Array 2x3 ค่าเป็นหนึ่ง\n",
    "np.arange(0, 10, 2) # 0 ถึง 8 ก้าวทีละ 2\n",
    "np.linspace(0, 1, 5) # 0 ถึง 1 แบ่งเป็น 5 ค่าเท่า ๆ กัน"
   ]
  },
  {
   "cell_type": "markdown",
   "id": "14dddd7f-7aad-48d7-9bbd-f0e3e11b9c40",
   "metadata": {},
   "source": [
    "4. การเข้าถึงและแก้ไขข้อมูล"
   ]
  },
  {
   "cell_type": "code",
   "execution_count": 10,
   "id": "2d6f03fa-3a2d-4a09-92cc-eb2adf44bab6",
   "metadata": {},
   "outputs": [
    {
     "name": "stdout",
     "output_type": "stream",
     "text": [
      "10\n",
      "[10 25 30 40]\n"
     ]
    }
   ],
   "source": [
    "arr = np.array([10, 20, 30, 40])\n",
    "\n",
    "print(arr[0])  # เข้าถึงตัวแรก\n",
    "arr[1] = 25    # แก้ไขค่าตำแหน่งที่ 1\n",
    "\n",
    "print(arr)"
   ]
  },
  {
   "cell_type": "markdown",
   "id": "c4d89af4-5d5c-4ad0-8ed7-39e31ab7730a",
   "metadata": {},
   "source": [
    "5. การคำนวณแบบเวกเตอร์"
   ]
  },
  {
   "cell_type": "code",
   "execution_count": 11,
   "id": "35d90adc-5e7b-49ad-b3c7-f7c12b652062",
   "metadata": {},
   "outputs": [],
   "source": [
    "a = np.array([1, 2, 3])\n",
    "b = np.array([4, 5, 6])"
   ]
  },
  {
   "cell_type": "code",
   "execution_count": 12,
   "id": "0bc994b4-c8d1-4bc9-8e1c-7e15ca2e89ad",
   "metadata": {},
   "outputs": [
    {
     "name": "stdout",
     "output_type": "stream",
     "text": [
      "[5 7 9]\n"
     ]
    }
   ],
   "source": [
    "print(a + b)   # บวกทุกตำแหน่ง"
   ]
  },
  {
   "cell_type": "code",
   "execution_count": 13,
   "id": "53ab00f1-f57e-4f69-83ef-8a042cf1abe2",
   "metadata": {},
   "outputs": [
    {
     "name": "stdout",
     "output_type": "stream",
     "text": [
      "[ 4 10 18]\n"
     ]
    }
   ],
   "source": [
    "print(a * b)   # คูณทุกตำแหน่ง"
   ]
  },
  {
   "cell_type": "code",
   "execution_count": 14,
   "id": "4aa2d826-09db-42e2-a5d5-a340c54ba615",
   "metadata": {},
   "outputs": [
    {
     "name": "stdout",
     "output_type": "stream",
     "text": [
      "[1 4 9]\n"
     ]
    }
   ],
   "source": [
    "print(a ** 2)  # ยกกำลังทุกตำแหน่ง"
   ]
  },
  {
   "cell_type": "markdown",
   "id": "17ba6deb-cd9d-43b8-bce5-bc35a53ad068",
   "metadata": {},
   "source": [
    "6. การใช้ฟังก์ชันทางคณิตศาสตร์"
   ]
  },
  {
   "cell_type": "code",
   "execution_count": 15,
   "id": "f2b06be7-d318-4478-80a2-48ff4236fd87",
   "metadata": {},
   "outputs": [],
   "source": [
    "data = np.array([1, 2, 3, 4, 5])"
   ]
  },
  {
   "cell_type": "code",
   "execution_count": 16,
   "id": "89d0f63a-eea1-495a-9045-cccff863c355",
   "metadata": {},
   "outputs": [
    {
     "name": "stdout",
     "output_type": "stream",
     "text": [
      "3.0\n",
      "5\n",
      "1\n"
     ]
    }
   ],
   "source": [
    "print(np.mean(data))  # ค่าเฉลี่ย\n",
    "print(np.max(data))   # ค่าสูงสุด\n",
    "print(np.min(data))   # ค่าต่ำสุด"
   ]
  }
 ],
 "metadata": {
  "kernelspec": {
   "display_name": "Python 3 (ipykernel)",
   "language": "python",
   "name": "python3"
  },
  "language_info": {
   "codemirror_mode": {
    "name": "ipython",
    "version": 3
   },
   "file_extension": ".py",
   "mimetype": "text/x-python",
   "name": "python",
   "nbconvert_exporter": "python",
   "pygments_lexer": "ipython3",
   "version": "3.13.5"
  }
 },
 "nbformat": 4,
 "nbformat_minor": 5
}
