{
 "cells": [
  {
   "cell_type": "markdown",
   "id": "ff278be8-e1b1-4670-b443-4cad6ce2afcb",
   "metadata": {},
   "source": [
    "# Day 03 - Basic Math Operations\n",
    "จุดประสงค์: เรียนรู้การใช้เครื่องหมายทางคณิตศาสตร์พื้นฐานใน Python"
   ]
  },
  {
   "cell_type": "code",
   "execution_count": 2,
   "id": "14f3996a-f0a4-4e81-a663-3df3ed0d0139",
   "metadata": {},
   "outputs": [
    {
     "name": "stdout",
     "output_type": "stream",
     "text": [
      "บวก: 13\n",
      "ลบ: 7\n",
      "คูณ: 30\n",
      "หาร: 3.3333333333333335\n",
      "หารปัดเศษลง: 3\n",
      "เศษจากการหาร: 1\n",
      "ยกกำลัง: 1000\n"
     ]
    }
   ],
   "source": [
    "a = 10\n",
    "b = 3\n",
    "\n",
    "print(\"บวก:\", a + b)\n",
    "print(\"ลบ:\", a - b)\n",
    "print(\"คูณ:\", a * b)\n",
    "print(\"หาร:\", a / b)\n",
    "print(\"หารปัดเศษลง:\", a // b)\n",
    "print(\"เศษจากการหาร:\", a % b)\n",
    "print(\"ยกกำลัง:\", a ** b)"
   ]
  },
  {
   "cell_type": "markdown",
   "id": "337d0038-39a7-411e-be98-4f55895c0cea",
   "metadata": {},
   "source": [
    "คำนวณพื้นที่วงกลม:"
   ]
  },
  {
   "cell_type": "code",
   "execution_count": 5,
   "id": "dc4a087b-9cb3-458e-9dd4-793494808e7e",
   "metadata": {},
   "outputs": [
    {
     "name": "stdout",
     "output_type": "stream",
     "text": [
      "พื้นที่วงกลม: 78.53975\n"
     ]
    }
   ],
   "source": [
    "radius = 5\n",
    "area = 3.14159 * (radius ** 2)\n",
    "\n",
    "print(\"พื้นที่วงกลม:\", area)"
   ]
  },
  {
   "cell_type": "markdown",
   "id": "45e21845-ee47-4ad5-a3cd-0af390e442f9",
   "metadata": {},
   "source": [
    "คำนวณความเร็วเฉลี่ย:"
   ]
  },
  {
   "cell_type": "code",
   "execution_count": 6,
   "id": "554f128c-9fac-49fe-8c29-0866a2f75e5b",
   "metadata": {},
   "outputs": [
    {
     "name": "stdout",
     "output_type": "stream",
     "text": [
      "ความเร็วเฉลี่ย: 60.0 km/h\n"
     ]
    }
   ],
   "source": [
    "distance = 120  # กิโลเมตร\n",
    "time = 2        # ชั่วโมง\n",
    "speed = distance / time\n",
    "\n",
    "print(\"ความเร็วเฉลี่ย:\", speed, \"km/h\")"
   ]
  }
 ],
 "metadata": {
  "kernelspec": {
   "display_name": "Python 3 (ipykernel)",
   "language": "python",
   "name": "python3"
  },
  "language_info": {
   "codemirror_mode": {
    "name": "ipython",
    "version": 3
   },
   "file_extension": ".py",
   "mimetype": "text/x-python",
   "name": "python",
   "nbconvert_exporter": "python",
   "pygments_lexer": "ipython3",
   "version": "3.13.5"
  }
 },
 "nbformat": 4,
 "nbformat_minor": 5
}
