{
 "cells": [
  {
   "cell_type": "markdown",
   "id": "32bb3359-dc08-4e83-ad12-1e2493fffc44",
   "metadata": {},
   "source": [
    "# Day 16 - NumPy Array Operations\n",
    "จุดประสงค์: ฝึกการคำนวณขั้นสูงกับ NumPy array"
   ]
  },
  {
   "cell_type": "markdown",
   "id": "e069d834-b919-4e14-9438-6f20b803e217",
   "metadata": {},
   "source": [
    "1. การดำเนินการทางคณิตศาสตร์"
   ]
  },
  {
   "cell_type": "code",
   "execution_count": 1,
   "id": "6d8efa8d-20a8-4e69-8472-711ede3c5402",
   "metadata": {},
   "outputs": [
    {
     "name": "stdout",
     "output_type": "stream",
     "text": [
      "[11 22 33 44]\n",
      "[ -9 -18 -27 -36]\n",
      "[ 10  40  90 160]\n",
      "[10. 10. 10. 10.]\n",
      "[ 1  4  9 16]\n"
     ]
    }
   ],
   "source": [
    "import numpy as np\n",
    "\n",
    "a = np.array([1, 2, 3, 4])\n",
    "b = np.array([10, 20, 30, 40])\n",
    "\n",
    "print(a + b)   # บวก\n",
    "print(a - b)   # ลบ\n",
    "print(a * b)   # คูณ\n",
    "print(b / a)   # หาร\n",
    "print(a ** 2)  # ยกกำลัง"
   ]
  },
  {
   "cell_type": "markdown",
   "id": "6146e609-e4d6-4701-bfbd-b815dab904b8",
   "metadata": {},
   "source": [
    "2. ฟังก์ชันทางคณิตศาสตร์ใน NumPy"
   ]
  },
  {
   "cell_type": "code",
   "execution_count": 2,
   "id": "beeacef3-2368-4c76-8ac0-bbac7f161fa1",
   "metadata": {},
   "outputs": [],
   "source": [
    "data = np.array([1, 2, 3, 4, 5])"
   ]
  },
  {
   "cell_type": "code",
   "execution_count": 3,
   "id": "e44856c3-c40d-43b7-806e-8260fee59ae0",
   "metadata": {},
   "outputs": [
    {
     "name": "stdout",
     "output_type": "stream",
     "text": [
      "[1.         1.41421356 1.73205081 2.         2.23606798]\n",
      "[  2.71828183   7.3890561   20.08553692  54.59815003 148.4131591 ]\n",
      "[0.         0.69314718 1.09861229 1.38629436 1.60943791]\n",
      "[ 0.84147098  0.90929743  0.14112001 -0.7568025  -0.95892427]\n"
     ]
    }
   ],
   "source": [
    "print(np.sqrt(data))   # รากที่สอง\n",
    "print(np.exp(data))    # e^x\n",
    "print(np.log(data))    # log ธรรมชาติ\n",
    "print(np.sin(data))    # sine"
   ]
  },
  {
   "cell_type": "markdown",
   "id": "9f477267-5ede-45bc-b110-82575b215dd0",
   "metadata": {},
   "source": [
    "3. การเปรียบเทียบและ Boolean Indexing"
   ]
  },
  {
   "cell_type": "code",
   "execution_count": 4,
   "id": "1dccf21a-d1e3-4260-ac07-a58b0c4d3e53",
   "metadata": {},
   "outputs": [],
   "source": [
    "scores = np.array([85, 90, 78, 92, 88])"
   ]
  },
  {
   "cell_type": "code",
   "execution_count": 6,
   "id": "4fda5b86-3468-419c-8150-8627e8e035f8",
   "metadata": {},
   "outputs": [
    {
     "name": "stdout",
     "output_type": "stream",
     "text": [
      "[ True  True False  True  True]\n",
      "[85 90 92 88]\n"
     ]
    }
   ],
   "source": [
    "print(scores > 80)\n",
    "print(scores[scores > 80])"
   ]
  },
  {
   "cell_type": "markdown",
   "id": "2dc171fc-0e12-4a02-8e8a-9408510c4ac9",
   "metadata": {},
   "source": [
    "4. การ Slicing"
   ]
  },
  {
   "cell_type": "code",
   "execution_count": 7,
   "id": "2d28455c-66e3-4093-b668-da063398e41b",
   "metadata": {},
   "outputs": [],
   "source": [
    "arr = np.array([10, 20, 30, 40, 50])"
   ]
  },
  {
   "cell_type": "code",
   "execution_count": 9,
   "id": "60d0d757-37b2-44be-829f-da93c216d359",
   "metadata": {},
   "outputs": [
    {
     "name": "stdout",
     "output_type": "stream",
     "text": [
      "[20 30 40]\n",
      "[10 20 30]\n",
      "[10 30 50]\n"
     ]
    }
   ],
   "source": [
    "print(arr[1:4])   # index 1 ถึง 3\n",
    "print(arr[:3])    # index 0 ถึง 2\n",
    "print(arr[::2])   # ทุก 2 ก้าว"
   ]
  },
  {
   "cell_type": "markdown",
   "id": "e86045b7-0450-4abe-97db-ad5e1370fa46",
   "metadata": {},
   "source": [
    "**5. การประยุกต์ใช้จริง**\n",
    "- เลือกข้อมูลอุณหภูมิที่เกิน 33°C และคำนวณค่าเฉลี่ย"
   ]
  },
  {
   "cell_type": "code",
   "execution_count": 10,
   "id": "ba876a9a-71d7-4350-ac3d-ff37861560e8",
   "metadata": {},
   "outputs": [],
   "source": [
    "temps = np.array([32.5, 33.0, 31.8, 34.2, 35.0])"
   ]
  },
  {
   "cell_type": "code",
   "execution_count": 11,
   "id": "0555e2b6-59dd-4988-859d-9c926350b8db",
   "metadata": {},
   "outputs": [],
   "source": [
    "hot_days = temps[temps > 33]"
   ]
  },
  {
   "cell_type": "code",
   "execution_count": 12,
   "id": "336639be-5226-4a10-9ef5-5e33ed1a3bcf",
   "metadata": {},
   "outputs": [
    {
     "name": "stdout",
     "output_type": "stream",
     "text": [
      "วันที่ร้อน: [34.2 35. ]\n",
      "ค่าเฉลี่ยวันที่ร้อน = 34.6\n"
     ]
    }
   ],
   "source": [
    "print(\"วันที่ร้อน:\", hot_days)\n",
    "print(\"ค่าเฉลี่ยวันที่ร้อน =\", np.mean(hot_days))"
   ]
  }
 ],
 "metadata": {
  "kernelspec": {
   "display_name": "Python 3 (ipykernel)",
   "language": "python",
   "name": "python3"
  },
  "language_info": {
   "codemirror_mode": {
    "name": "ipython",
    "version": 3
   },
   "file_extension": ".py",
   "mimetype": "text/x-python",
   "name": "python",
   "nbconvert_exporter": "python",
   "pygments_lexer": "ipython3",
   "version": "3.13.5"
  }
 },
 "nbformat": 4,
 "nbformat_minor": 5
}
