{
 "cells": [
  {
   "cell_type": "markdown",
   "id": "3bb10c44-c0a3-4bac-9cfa-f81bccef14cd",
   "metadata": {},
   "source": [
    "# Day 10 - Lists\n",
    "จุดประสงค์: เรียนรู้การเก็บข้อมูลหลายค่าในตัวเดียวด้วย list"
   ]
  },
  {
   "cell_type": "code",
   "execution_count": 6,
   "id": "844ec18a-cad5-4dd7-8f4d-1ece82bf2527",
   "metadata": {},
   "outputs": [],
   "source": [
    "numbers = [10, 20, 30, 40]\n",
    "names = [\"Alice\", \"Bob\", \"Charlie\"]\n",
    "mixed = [1, \"Hello\", True]"
   ]
  },
  {
   "cell_type": "code",
   "execution_count": 8,
   "id": "10299f93-1f8d-4015-9bdb-639466aca586",
   "metadata": {},
   "outputs": [
    {
     "name": "stdout",
     "output_type": "stream",
     "text": [
      "10\n",
      "Charlie\n"
     ]
    }
   ],
   "source": [
    "print(numbers[0])\n",
    "print(names[2])"
   ]
  },
  {
   "cell_type": "code",
   "execution_count": 10,
   "id": "0782685c-2c38-49dc-89f9-e499572a2ce0",
   "metadata": {},
   "outputs": [
    {
     "name": "stdout",
     "output_type": "stream",
     "text": [
      "[10, 25, 30, 40]\n"
     ]
    }
   ],
   "source": [
    "numbers[1] = 25\n",
    "print(numbers)"
   ]
  },
  {
   "cell_type": "code",
   "execution_count": 17,
   "id": "8c785638-e507-42da-93f3-d9d714577b95",
   "metadata": {},
   "outputs": [
    {
     "name": "stdout",
     "output_type": "stream",
     "text": [
      "[10, 15, 15, 15, 25, 30, 40, 50, 50, 50, 50, 50, 50, 50]\n"
     ]
    }
   ],
   "source": [
    "numbers.append(50)\n",
    "numbers.insert(1, 15)\n",
    "\n",
    "print(numbers)"
   ]
  },
  {
   "cell_type": "code",
   "execution_count": 18,
   "id": "e5682937-66f4-4126-bb3b-d2dc5bcb191b",
   "metadata": {},
   "outputs": [
    {
     "name": "stdout",
     "output_type": "stream",
     "text": [
      "[10, 15, 15, 15, 25, 40, 50, 50, 50, 50, 50, 50, 50]\n"
     ]
    }
   ],
   "source": [
    "numbers.remove(30)\n",
    "print(numbers)"
   ]
  },
  {
   "cell_type": "code",
   "execution_count": 19,
   "id": "ab6fb654-0a00-4dea-88cb-4d3e82769ece",
   "metadata": {},
   "outputs": [
    {
     "name": "stdout",
     "output_type": "stream",
     "text": [
      "[15, 15, 15, 25, 40, 50, 50, 50, 50, 50, 50, 50]\n"
     ]
    }
   ],
   "source": [
    "del numbers[0]\n",
    "print(numbers)"
   ]
  },
  {
   "cell_type": "code",
   "execution_count": 20,
   "id": "a059a59e-a0b7-4081-bcf6-ebe1586be899",
   "metadata": {},
   "outputs": [
    {
     "name": "stdout",
     "output_type": "stream",
     "text": [
      "สวัสดี Alice\n",
      "สวัสดี Bob\n",
      "สวัสดี Charlie\n"
     ]
    }
   ],
   "source": [
    "for name in names:\n",
    "    print(\"สวัสดี\", name)"
   ]
  },
  {
   "cell_type": "markdown",
   "id": "52422de8-4f03-4ed5-b992-db9f01e80a12",
   "metadata": {},
   "source": [
    "เก็บคะแนนนักเรียนและหาค่าเฉลี่ย:"
   ]
  },
  {
   "cell_type": "code",
   "execution_count": 21,
   "id": "8aa75724-67cb-4419-a4a5-73491fbf2523",
   "metadata": {},
   "outputs": [
    {
     "name": "stdout",
     "output_type": "stream",
     "text": [
      "ค่าเฉลี่ย = 86.6\n"
     ]
    }
   ],
   "source": [
    "scores = [85, 90, 78, 92, 88]\n",
    "average = sum(scores) / len(scores)\n",
    "\n",
    "print(\"ค่าเฉลี่ย =\", average)"
   ]
  }
 ],
 "metadata": {
  "kernelspec": {
   "display_name": "Python 3 (ipykernel)",
   "language": "python",
   "name": "python3"
  },
  "language_info": {
   "codemirror_mode": {
    "name": "ipython",
    "version": 3
   },
   "file_extension": ".py",
   "mimetype": "text/x-python",
   "name": "python",
   "nbconvert_exporter": "python",
   "pygments_lexer": "ipython3",
   "version": "3.13.5"
  }
 },
 "nbformat": 4,
 "nbformat_minor": 5
}
