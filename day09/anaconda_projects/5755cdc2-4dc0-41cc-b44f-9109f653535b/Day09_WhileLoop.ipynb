{
 "cells": [
  {
   "cell_type": "markdown",
   "id": "c2201e80-dfba-4a2d-8317-54bc7e9dafc8",
   "metadata": {},
   "source": [
    "# Day 09 - While Loop\n",
    "จุดประสงค์: เรียนรู้การทำงานซ้ำจนกว่าเงื่อนไขจะเป็นเท็จด้วย while loop"
   ]
  },
  {
   "cell_type": "code",
   "execution_count": 3,
   "id": "c338b0f5-af7a-46f1-b1df-3330da8fb350",
   "metadata": {},
   "outputs": [
    {
     "name": "stdout",
     "output_type": "stream",
     "text": [
      "รอบที่ 1\n",
      "รอบที่ 2\n",
      "รอบที่ 3\n",
      "รอบที่ 4\n",
      "รอบที่ 5\n"
     ]
    }
   ],
   "source": [
    "count = 1\n",
    "\n",
    "while count <= 5:\n",
    "    print(\"รอบที่\", count)\n",
    "    count += 1 # เพิ่มค่า count ทีละ 1"
   ]
  },
  {
   "cell_type": "code",
   "execution_count": 4,
   "id": "1e73a88c-dc75-4260-b9b4-4430e58b5295",
   "metadata": {},
   "outputs": [
    {
     "name": "stdin",
     "output_type": "stream",
     "text": [
      "กรอกรหัสผ่าน:  หฟกฟห\n",
      "กรอกรหัสผ่าน:  ดหฟหฟด\n",
      "กรอกรหัสผ่าน:  กหฟกฟห\n",
      "กรอกรหัสผ่าน:  ดหฟดหฟ\n",
      "กรอกรหัสผ่าน:  ดหฟดห\n",
      "กรอกรหัสผ่าน:  ดหฟกหฟ้พำ\n",
      "กรอกรหัสผ่าน:  56546\n",
      "กรอกรหัสผ่าน:  74\n",
      "กรอกรหัสผ่าน:  654\n",
      "กรอกรหัสผ่าน:  56247\n",
      "กรอกรหัสผ่าน:  5\n",
      "กรอกรหัสผ่าน:  68657\n",
      "กรอกรหัสผ่าน:  1234\n"
     ]
    },
    {
     "name": "stdout",
     "output_type": "stream",
     "text": [
      "รหัสถูกต้อง เข้าสู่ระบบแล้ว\n"
     ]
    }
   ],
   "source": [
    "password = \"\"\n",
    "\n",
    "while password != \"1234\":\n",
    "    password = input(\"กรอกรหัสผ่าน: \")\n",
    "print(\"รหัสถูกต้อง เข้าสู่ระบบแล้ว\")"
   ]
  },
  {
   "cell_type": "code",
   "execution_count": 5,
   "id": "5a5a142c-4b8f-460b-8e33-c4f7c12ff03a",
   "metadata": {},
   "outputs": [
    {
     "name": "stdin",
     "output_type": "stream",
     "text": [
      "พิมพ์ 'exit' เพื่อออก:  dsfsd\n"
     ]
    },
    {
     "name": "stdout",
     "output_type": "stream",
     "text": [
      "คุณพิมพ์: dsfsd\n"
     ]
    },
    {
     "name": "stdin",
     "output_type": "stream",
     "text": [
      "พิมพ์ 'exit' เพื่อออก:  sdgh\n"
     ]
    },
    {
     "name": "stdout",
     "output_type": "stream",
     "text": [
      "คุณพิมพ์: sdgh\n"
     ]
    },
    {
     "name": "stdin",
     "output_type": "stream",
     "text": [
      "พิมพ์ 'exit' เพื่อออก:  go in\n"
     ]
    },
    {
     "name": "stdout",
     "output_type": "stream",
     "text": [
      "คุณพิมพ์: go in\n"
     ]
    },
    {
     "name": "stdin",
     "output_type": "stream",
     "text": [
      "พิมพ์ 'exit' เพื่อออก:  Exit\n"
     ]
    }
   ],
   "source": [
    "while True:\n",
    "    text = input(\"พิมพ์ 'exit' เพื่อออก: \")\n",
    "    if text.lower() == \"exit\":\n",
    "        break\n",
    "    print(\"คุณพิมพ์:\", text)"
   ]
  },
  {
   "cell_type": "code",
   "execution_count": 6,
   "id": "b99a821e-f735-421f-80d6-9862920d2400",
   "metadata": {},
   "outputs": [
    {
     "name": "stdout",
     "output_type": "stream",
     "text": [
      "1\n",
      "3\n",
      "5\n",
      "7\n",
      "9\n"
     ]
    }
   ],
   "source": [
    "num = 0\n",
    "while num < 10:\n",
    "    num += 1\n",
    "    if num % 2 == 0:\n",
    "        continue\n",
    "    print(num)"
   ]
  }
 ],
 "metadata": {
  "kernelspec": {
   "display_name": "Python 3 (ipykernel)",
   "language": "python",
   "name": "python3"
  },
  "language_info": {
   "codemirror_mode": {
    "name": "ipython",
    "version": 3
   },
   "file_extension": ".py",
   "mimetype": "text/x-python",
   "name": "python",
   "nbconvert_exporter": "python",
   "pygments_lexer": "ipython3",
   "version": "3.13.5"
  }
 },
 "nbformat": 4,
 "nbformat_minor": 5
}
