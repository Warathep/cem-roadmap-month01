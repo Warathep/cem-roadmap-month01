{
 "cells": [
  {
   "cell_type": "markdown",
   "id": "4c177827-98c4-41f7-9152-fb8e0245a7fd",
   "metadata": {},
   "source": [
    "# Day 12 - Functions\n",
    "จุดประสงค์: เรียนรู้การสร้างและใช้งานฟังก์ชันเพื่อทำโค้ดให้ใช้ซ้ำได้"
   ]
  },
  {
   "cell_type": "markdown",
   "id": "dc98d988-5acd-43a0-b9ef-c67d20da7ca7",
   "metadata": {},
   "source": [
    "2. ตัวอย่างฟังก์ชันง่าย ๆ"
   ]
  },
  {
   "cell_type": "code",
   "execution_count": 2,
   "id": "5bba8bc1-b4d7-4b1b-b3b2-c394ab4b48c2",
   "metadata": {},
   "outputs": [
    {
     "name": "stdout",
     "output_type": "stream",
     "text": [
      "สวัสดี Python!\n"
     ]
    }
   ],
   "source": [
    "def say_hello():\n",
    "    print(\"สวัสดี Python!\")\n",
    "\n",
    "say_hello()"
   ]
  },
  {
   "cell_type": "markdown",
   "id": "00e3357f-2699-459e-97b7-2e4be7e92789",
   "metadata": {},
   "source": [
    "3. ฟังก์ชันที่มีพารามิเตอร์"
   ]
  },
  {
   "cell_type": "code",
   "execution_count": 3,
   "id": "59ed1cc1-1cd0-43f3-9694-7e7c08a92426",
   "metadata": {},
   "outputs": [
    {
     "name": "stdout",
     "output_type": "stream",
     "text": [
      "สวัสดี Warathep\n"
     ]
    }
   ],
   "source": [
    "def greet(name):\n",
    "    print(\"สวัสดี\", name)\n",
    "\n",
    "greet(\"Warathep\")"
   ]
  },
  {
   "cell_type": "markdown",
   "id": "788ebff3-6b42-4b87-9bdf-aa9fd5ce9d42",
   "metadata": {},
   "source": [
    "4. ฟังก์ชันที่ส่งค่ากลับ"
   ]
  },
  {
   "cell_type": "code",
   "execution_count": 4,
   "id": "c90f683e-2b6a-4195-ac16-6f781c6aec6a",
   "metadata": {},
   "outputs": [
    {
     "name": "stdout",
     "output_type": "stream",
     "text": [
      "ผลบวก = 8\n"
     ]
    }
   ],
   "source": [
    "def add(a, b):\n",
    "    return a + b\n",
    "\n",
    "result = add(5, 3)\n",
    "print(\"ผลบวก =\", result)"
   ]
  },
  {
   "cell_type": "markdown",
   "id": "beb8a2e9-d344-4198-b8c2-b72ac1cdb783",
   "metadata": {},
   "source": [
    "**5. ตัวอย่างการใช้งานจริง**\n",
    "- ฟังก์ชันคำนวณพื้นที่วงกลม:"
   ]
  },
  {
   "cell_type": "code",
   "execution_count": 5,
   "id": "525afc16-b140-43c9-baeb-7d1f467f537e",
   "metadata": {},
   "outputs": [
    {
     "name": "stdin",
     "output_type": "stream",
     "text": [
      "กรอกรัศมี:  30\n"
     ]
    },
    {
     "name": "stdout",
     "output_type": "stream",
     "text": [
      "พื้นที่วงกลม = 2827.431\n"
     ]
    }
   ],
   "source": [
    "def circle_area(radius):\n",
    "    pi = 3.14159\n",
    "    return pi * (radius ** 2)\n",
    "\n",
    "r = float(input(\"กรอกรัศมี: \"))\n",
    "print(\"พื้นที่วงกลม =\", circle_area(r))"
   ]
  }
 ],
 "metadata": {
  "kernelspec": {
   "display_name": "Python 3 (ipykernel)",
   "language": "python",
   "name": "python3"
  },
  "language_info": {
   "codemirror_mode": {
    "name": "ipython",
    "version": 3
   },
   "file_extension": ".py",
   "mimetype": "text/x-python",
   "name": "python",
   "nbconvert_exporter": "python",
   "pygments_lexer": "ipython3",
   "version": "3.13.5"
  }
 },
 "nbformat": 4,
 "nbformat_minor": 5
}
