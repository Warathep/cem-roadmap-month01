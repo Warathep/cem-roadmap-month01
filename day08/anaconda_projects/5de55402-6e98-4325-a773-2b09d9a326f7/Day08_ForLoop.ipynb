{
 "cells": [
  {
   "cell_type": "markdown",
   "id": "1cfb62ff-a9c8-46c1-bfbb-c12d0fd44479",
   "metadata": {},
   "source": [
    "# Day 08 - For Loop\n",
    "จุดประสงค์: เรียนรู้การทำงานซ้ำตามจำนวนรอบด้วย for loop"
   ]
  },
  {
   "cell_type": "code",
   "execution_count": 1,
   "id": "aaffa960-2a79-4840-91f5-c738e6dfb407",
   "metadata": {},
   "outputs": [
    {
     "name": "stdout",
     "output_type": "stream",
     "text": [
      "รอบที่ 0\n",
      "รอบที่ 1\n",
      "รอบที่ 2\n",
      "รอบที่ 3\n",
      "รอบที่ 4\n"
     ]
    }
   ],
   "source": [
    "for i in range(5):\n",
    "    print(\"รอบที่\", i)"
   ]
  },
  {
   "cell_type": "code",
   "execution_count": 2,
   "id": "4c8b51d4-57cf-4cb3-b763-2009390a27b1",
   "metadata": {},
   "outputs": [
    {
     "name": "stdout",
     "output_type": "stream",
     "text": [
      "1\n",
      "2\n",
      "3\n",
      "4\n",
      "5\n",
      "6\n",
      "7\n",
      "8\n",
      "9\n",
      "10\n"
     ]
    }
   ],
   "source": [
    "for i in range(1, 11):\n",
    "    print(i)"
   ]
  },
  {
   "cell_type": "code",
   "execution_count": 3,
   "id": "05b196a7-34b5-4f6f-a448-9faa29fecba8",
   "metadata": {},
   "outputs": [
    {
     "name": "stdout",
     "output_type": "stream",
     "text": [
      "1 กำลังสอง = 1\n",
      "2 กำลังสอง = 4\n",
      "3 กำลังสอง = 9\n",
      "4 กำลังสอง = 16\n",
      "5 กำลังสอง = 25\n"
     ]
    }
   ],
   "source": [
    "for i in range(1, 6):\n",
    "    print(i, \"กำลังสอง =\", i**2)"
   ]
  },
  {
   "cell_type": "code",
   "execution_count": 4,
   "id": "d4cdd7d2-acfb-49ca-afab-aa4f3ff8c6e8",
   "metadata": {},
   "outputs": [
    {
     "name": "stdout",
     "output_type": "stream",
     "text": [
      "ผลรวม = 5050\n"
     ]
    }
   ],
   "source": [
    "total = 0\n",
    "\n",
    "for i in range(1, 101):\n",
    "    total += i\n",
    "print(\"ผลรวม =\", total)"
   ]
  },
  {
   "cell_type": "code",
   "execution_count": 5,
   "id": "8dcf3652-c0bc-4e26-8961-8f80a963b7f4",
   "metadata": {},
   "outputs": [
    {
     "name": "stdout",
     "output_type": "stream",
     "text": [
      "สวัสดี Alice\n",
      "สวัสดี Bob\n",
      "สวัสดี Charlie\n"
     ]
    }
   ],
   "source": [
    "names = [\"Alice\", \"Bob\", \"Charlie\"]\n",
    "\n",
    "for name in names:\n",
    "    print(\"สวัสดี\", name)"
   ]
  }
 ],
 "metadata": {
  "kernelspec": {
   "display_name": "Python 3 (ipykernel)",
   "language": "python",
   "name": "python3"
  },
  "language_info": {
   "codemirror_mode": {
    "name": "ipython",
    "version": 3
   },
   "file_extension": ".py",
   "mimetype": "text/x-python",
   "name": "python",
   "nbconvert_exporter": "python",
   "pygments_lexer": "ipython3",
   "version": "3.13.5"
  }
 },
 "nbformat": 4,
 "nbformat_minor": 5
}
