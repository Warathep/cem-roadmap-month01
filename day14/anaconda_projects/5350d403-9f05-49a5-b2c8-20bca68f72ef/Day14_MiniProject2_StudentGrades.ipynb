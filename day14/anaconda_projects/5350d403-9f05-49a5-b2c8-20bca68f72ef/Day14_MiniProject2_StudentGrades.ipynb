{
 "cells": [
  {
   "cell_type": "markdown",
   "id": "482bbc05-d806-4b7d-b008-8af814aba87f",
   "metadata": {},
   "source": [
    "# Day 14 - Mini Project 2: โปรแกรมคำนวณเกรดเฉลี่ยจากข้อมูลนักเรียน\n",
    "จุดประสงค์: ฝึกใช้ lists, loops, และ functions ในการประมวลผลข้อมูลจริง"
   ]
  },
  {
   "cell_type": "markdown",
   "id": "9f910f93-044d-4037-a175-b6babb761c3c",
   "metadata": {},
   "source": [
    "**1. โครงสร้างข้อมูลนักเรียน**\n",
    "\n",
    "เราจะเก็บข้อมูลเป็น list ของ dictionary หรือ list ซ้อน list เช่น:"
   ]
  },
  {
   "cell_type": "code",
   "execution_count": 1,
   "id": "c843f33e-5ffb-4fe0-899a-356413facb0e",
   "metadata": {},
   "outputs": [],
   "source": [
    "students = [\n",
    "    [\"Alice\", [85, 90, 78]],\n",
    "    [\"Bob\", [70, 65, 80]],\n",
    "    [\"Charlie\", [92, 88, 95]]\n",
    "]"
   ]
  },
  {
   "cell_type": "markdown",
   "id": "70c8931b-6ace-4508-83d2-50a0b0d7ef7e",
   "metadata": {},
   "source": [
    "2. ฟังก์ชันคำนวณค่าเฉลี่ย"
   ]
  },
  {
   "cell_type": "code",
   "execution_count": 2,
   "id": "bb19c964-6c83-4833-9c3e-9d159ca394a8",
   "metadata": {},
   "outputs": [],
   "source": [
    "def average(scores):\n",
    "    return sum(scores) / len(scores)"
   ]
  },
  {
   "cell_type": "markdown",
   "id": "0a614d1c-ef71-45a1-9c3b-77f2cf93bb50",
   "metadata": {},
   "source": [
    "3. ฟังก์ชันตัดสินเกรด"
   ]
  },
  {
   "cell_type": "code",
   "execution_count": 3,
   "id": "e35a7a4b-3ef3-4c15-94ad-b186403ebbe0",
   "metadata": {},
   "outputs": [],
   "source": [
    "def get_grade(avg):\n",
    "    if avg >= 80:\n",
    "        return \"A\"\n",
    "    elif avg >= 70:\n",
    "        return \"B\"\n",
    "    elif avg >= 60:\n",
    "        return \"C\"\n",
    "    elif avg >= 50:\n",
    "        return \"D\"\n",
    "    else:\n",
    "        return \"F\""
   ]
  },
  {
   "cell_type": "markdown",
   "id": "1462f872-8344-4a1f-8a4b-8122ddb822f2",
   "metadata": {},
   "source": [
    "4. วนซ้ำประมวลผลนักเรียนทุกคน"
   ]
  },
  {
   "cell_type": "code",
   "execution_count": 4,
   "id": "7cbb5385-6af6-4422-be6f-5c315fb5e542",
   "metadata": {},
   "outputs": [
    {
     "name": "stdout",
     "output_type": "stream",
     "text": [
      "Alice: ค่าเฉลี่ย = 84.33, เกรด = A\n",
      "Bob: ค่าเฉลี่ย = 71.67, เกรด = B\n",
      "Charlie: ค่าเฉลี่ย = 91.67, เกรด = A\n"
     ]
    }
   ],
   "source": [
    "for name, scores in students:\n",
    "    avg = average(scores)\n",
    "    grade = get_grade(avg)\n",
    "    print(f\"{name}: ค่าเฉลี่ย = {avg:.2f}, เกรด = {grade}\")"
   ]
  },
  {
   "cell_type": "code",
   "execution_count": null,
   "id": "88334580-047d-4bd3-8c9b-5429ce6835c2",
   "metadata": {},
   "outputs": [],
   "source": []
  }
 ],
 "metadata": {
  "kernelspec": {
   "display_name": "Python 3 (ipykernel)",
   "language": "python",
   "name": "python3"
  },
  "language_info": {
   "codemirror_mode": {
    "name": "ipython",
    "version": 3
   },
   "file_extension": ".py",
   "mimetype": "text/x-python",
   "name": "python",
   "nbconvert_exporter": "python",
   "pygments_lexer": "ipython3",
   "version": "3.13.5"
  }
 },
 "nbformat": 4,
 "nbformat_minor": 5
}
