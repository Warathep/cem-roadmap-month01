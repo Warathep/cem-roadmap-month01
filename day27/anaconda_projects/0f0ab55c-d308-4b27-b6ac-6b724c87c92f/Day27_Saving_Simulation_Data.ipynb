{
 "cells": [
  {
   "cell_type": "markdown",
   "id": "185f8368-cb45-4e6f-8889-9e730ff25696",
   "metadata": {},
   "source": [
    "📚 ตัวอย่างการจำลอง (ใช้จาก Day 26)"
   ]
  },
  {
   "cell_type": "code",
   "execution_count": 1,
   "id": "aba40427-f914-470a-b3bb-dbe442890bee",
   "metadata": {},
   "outputs": [],
   "source": [
    "import numpy as np\n",
    "\n",
    "def simulate_ode(f, y0, t_start, t_end, h):\n",
    "    t_values = np.arange(t_start, t_end + h, h)\n",
    "    y_values = np.zeros(len(t_values))\n",
    "    y_values[0] = y0\n",
    "    for i in range(len(t_values) - 1):\n",
    "        y_values[i+1] = y_values[i] + h * f(t_values[i], y_values[i])\n",
    "    return t_values, y_values\n",
    "\n",
    "def decay(t, y):\n",
    "    return -2 * y\n",
    "\n",
    "t, y = simulate_ode(decay, y0=5, t_start=0, t_end=5, h=0.1)"
   ]
  },
  {
   "cell_type": "markdown",
   "id": "afebfff5-03c6-4596-8e2e-52fdfd8c199c",
   "metadata": {},
   "source": [
    "## 🖥️ วิธีบันทึกข้อมูลลงไฟล์ `.csv`\n",
    "\n",
    "### 1. ใช้ pandas"
   ]
  },
  {
   "cell_type": "code",
   "execution_count": 2,
   "id": "820ca909-64ce-4ecf-ba33-39715991c930",
   "metadata": {},
   "outputs": [],
   "source": [
    "import pandas as pd\n",
    "\n",
    "df = pd.DataFrame({\n",
    "    \"Time\": t,\n",
    "    \"y(t)\": y\n",
    "})\n",
    "\n",
    "df.to_csv(\"simulation_output.csv\", index=False)"
   ]
  },
  {
   "cell_type": "code",
   "execution_count": 3,
   "id": "08fd035f-de9e-4f51-a7bf-5e5639132dd8",
   "metadata": {},
   "outputs": [],
   "source": [
    "data = np.column_stack((t, y))\n",
    "np.savetxt(\"simulation_output_numpy.csv\", data, delimiter = \",\", header = \"Time, y(t)\", comments = '')"
   ]
  }
 ],
 "metadata": {
  "kernelspec": {
   "display_name": "Python 3 (ipykernel)",
   "language": "python",
   "name": "python3"
  },
  "language_info": {
   "codemirror_mode": {
    "name": "ipython",
    "version": 3
   },
   "file_extension": ".py",
   "mimetype": "text/x-python",
   "name": "python",
   "nbconvert_exporter": "python",
   "pygments_lexer": "ipython3",
   "version": "3.13.5"
  }
 },
 "nbformat": 4,
 "nbformat_minor": 5
}
