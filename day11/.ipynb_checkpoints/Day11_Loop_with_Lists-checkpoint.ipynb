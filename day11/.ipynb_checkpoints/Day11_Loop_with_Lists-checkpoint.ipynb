{
 "cells": [
  {
   "cell_type": "markdown",
   "id": "ef221478-b576-4298-90be-1a983b0a3ef0",
   "metadata": {},
   "source": [
    "# Day 11 - Loop with Lists\n",
    "จุดประสงค์: ฝึกใช้ for loop ร่วมกับ list เพื่อประมวลผลข้อมูลหลายค่า"
   ]
  },
  {
   "cell_type": "markdown",
   "id": "93dfd0f0-eca7-4a15-9e00-b1eb7eb7dfa0",
   "metadata": {},
   "source": [
    "1. วนซ้ำใน list แบบปกติ"
   ]
  },
  {
   "cell_type": "code",
   "execution_count": 1,
   "id": "186cd2ef-4fcc-450c-b583-8a5b1c67a46d",
   "metadata": {},
   "outputs": [
    {
     "name": "stdout",
     "output_type": "stream",
     "text": [
      "คะแนน: 85\n",
      "คะแนน: 90\n",
      "คะแนน: 78\n",
      "คะแนน: 92\n",
      "คะแนน: 88\n"
     ]
    }
   ],
   "source": [
    "scores = [85, 90, 78, 92, 88]\n",
    "\n",
    "for score in scores:\n",
    "    print(\"คะแนน:\", score)"
   ]
  },
  {
   "cell_type": "markdown",
   "id": "a0900b5e-b216-4a3e-9f3d-2ab75973faff",
   "metadata": {},
   "source": [
    "2. ใช้ enumerate() เพื่อได้ทั้ง index และค่า"
   ]
  },
  {
   "cell_type": "code",
   "execution_count": 7,
   "id": "add47187-5fe6-4a27-b2d9-76c530ea4d63",
   "metadata": {},
   "outputs": [
    {
     "name": "stdout",
     "output_type": "stream",
     "text": [
      "นักเรียนคนที่ 1 ที่ได้คะแนน 85\n",
      "นักเรียนคนที่ 2 ที่ได้คะแนน 90\n",
      "นักเรียนคนที่ 3 ที่ได้คะแนน 78\n",
      "นักเรียนคนที่ 4 ที่ได้คะแนน 92\n",
      "นักเรียนคนที่ 5 ที่ได้คะแนน 88\n"
     ]
    }
   ],
   "source": [
    "scores = [85, 90, 78, 92, 88]\n",
    "\n",
    "for index, score in enumerate(scores):\n",
    "    print(\"นักเรียนคนที่\", index + 1, \"ที่ได้คะแนน\", score)"
   ]
  },
  {
   "cell_type": "markdown",
   "id": "be7872b1-af6e-410d-814e-1134dc119b19",
   "metadata": {},
   "source": [
    "3. คำนวณค่าทุกตัวใน list"
   ]
  },
  {
   "cell_type": "code",
   "execution_count": 8,
   "id": "2801130f-83d2-4828-a0e0-173110bb72bf",
   "metadata": {},
   "outputs": [
    {
     "name": "stdout",
     "output_type": "stream",
     "text": [
      "ค่ากำลังสอง: [1, 4, 9, 16, 25]\n"
     ]
    }
   ],
   "source": [
    "numbers = [1, 2, 3, 4, 5]\n",
    "squares = []\n",
    "\n",
    "for n in numbers:\n",
    "    squares.append(n ** 2)\n",
    "print(\"ค่ากำลังสอง:\", squares)"
   ]
  },
  {
   "cell_type": "markdown",
   "id": "6ecd9119-8a28-4dc6-9b9f-b42443dfe2f4",
   "metadata": {},
   "source": [
    "4. ใช้ loop เพื่อหาค่าสูงสุดและต่ำสุด"
   ]
  },
  {
   "cell_type": "code",
   "execution_count": 9,
   "id": "90c4fbd0-e736-4d1e-b0a0-48e6a5e64b7f",
   "metadata": {},
   "outputs": [
    {
     "name": "stdout",
     "output_type": "stream",
     "text": [
      "คะแนนสูงสุด: 92\n",
      "คะแนนต่ำสุด: 78\n"
     ]
    }
   ],
   "source": [
    "scores = [85, 90, 78, 92, 88]\n",
    "max_score = scores[0]\n",
    "min_score = scores[0]\n",
    "\n",
    "for score in scores:\n",
    "    if score > max_score:\n",
    "        max_score = score\n",
    "    if score < min_score:\n",
    "        min_score = score\n",
    "\n",
    "print(\"คะแนนสูงสุด:\", max_score)\n",
    "print(\"คะแนนต่ำสุด:\", min_score)"
   ]
  },
  {
   "cell_type": "markdown",
   "id": "9be5d8f1-3444-46a0-b055-d1edce995b79",
   "metadata": {},
   "source": [
    "**5. ตัวอย่างการใช้งานจริง**\n",
    "- ประมวลผลข้อมูลอุณหภูมิรายวัน:"
   ]
  },
  {
   "cell_type": "code",
   "execution_count": 10,
   "id": "a52f3050-d8bb-4bfb-841c-020ff335197f",
   "metadata": {},
   "outputs": [
    {
     "name": "stdout",
     "output_type": "stream",
     "text": [
      "วันที่ 1: 32.5 °C\n",
      "วันที่ 2: 33.0 °C\n",
      "วันที่ 3: 31.8 °C\n",
      "วันที่ 4: 34.2 °C\n",
      "วันที่ 5: 35.0 °C\n"
     ]
    }
   ],
   "source": [
    "temps = [32.5, 33.0, 31.8, 34.2, 35.0]\n",
    "\n",
    "for day, temp in enumerate(temps, start = 1):\n",
    "    print(f\"วันที่ {day}: {temp} °C\")"
   ]
  }
 ],
 "metadata": {
  "kernelspec": {
   "display_name": "Python 3 (ipykernel)",
   "language": "python",
   "name": "python3"
  },
  "language_info": {
   "codemirror_mode": {
    "name": "ipython",
    "version": 3
   },
   "file_extension": ".py",
   "mimetype": "text/x-python",
   "name": "python",
   "nbconvert_exporter": "python",
   "pygments_lexer": "ipython3",
   "version": "3.13.5"
  }
 },
 "nbformat": 4,
 "nbformat_minor": 5
}
