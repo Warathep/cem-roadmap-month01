{
 "cells": [
  {
   "cell_type": "markdown",
   "id": "043ae67d-3e5c-458f-9d21-9c5d8d500fcb",
   "metadata": {},
   "source": [
    "# Day 07 - Mini Project 1: โปรแกรมคำนวณ BMI และบอกเกณฑ์\n",
    "จุดประสงค์: ฝึกใช้ input, การคำนวณ, และ if-else ในโปรแกรมจริง"
   ]
  },
  {
   "cell_type": "code",
   "execution_count": 1,
   "id": "2a8fed0b-0aa7-4ef9-8237-1734222c536b",
   "metadata": {},
   "outputs": [
    {
     "name": "stdin",
     "output_type": "stream",
     "text": [
      "กรอกน้ำหนักของคุณ (กิโลกรัม):  98\n",
      "กรอกส่วนสูงของคุณ (เมตร):  1.83\n"
     ]
    },
    {
     "name": "stdout",
     "output_type": "stream",
     "text": [
      "ค่า BMI ของคุณคือ: 29.26\n",
      "คุณมีน้ำหนักเกิน\n"
     ]
    }
   ],
   "source": [
    "# รับข้อมูลจากผู้ใช้\n",
    "weight = float(input(\"กรอกน้ำหนักของคุณ (กิโลกรัม): \"))\n",
    "height = float(input(\"กรอกส่วนสูงของคุณ (เมตร): \"))\n",
    "\n",
    "# คำนวน BMI\n",
    "bmi = weight / (height ** 2)\n",
    "\n",
    "# แสดงค่า BMI\n",
    "print(\"ค่า BMI ของคุณคือ:\", round(bmi, 2))\n",
    "\n",
    "# ตัดสินใจตามเกณฑ์\n",
    "if bmi < 18.5:\n",
    "    print(\"คุณมีน้ำหนักน้อย / ผอม\")\n",
    "elif bmi < 25:\n",
    "    print(\"คุณมีน้ำหนักปกติ\")\n",
    "elif bmi < 30:\n",
    "    print(\"คุณมีน้ำหนักเกิน\")\n",
    "else:\n",
    "    print(\"คุณอยู่ในเกณฑ์โรคอ้วน\")"
   ]
  }
 ],
 "metadata": {
  "kernelspec": {
   "display_name": "Python 3 (ipykernel)",
   "language": "python",
   "name": "python3"
  },
  "language_info": {
   "codemirror_mode": {
    "name": "ipython",
    "version": 3
   },
   "file_extension": ".py",
   "mimetype": "text/x-python",
   "name": "python",
   "nbconvert_exporter": "python",
   "pygments_lexer": "ipython3",
   "version": "3.13.5"
  }
 },
 "nbformat": 4,
 "nbformat_minor": 5
}
