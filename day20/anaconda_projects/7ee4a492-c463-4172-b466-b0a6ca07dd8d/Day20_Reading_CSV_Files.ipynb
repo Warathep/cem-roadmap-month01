{
 "cells": [
  {
   "cell_type": "markdown",
   "id": "d0092700-61b1-4b4a-90ef-aa2d679d0187",
   "metadata": {},
   "source": [
    "# Day 20 - Reading CSV Files: โหลดข้อมูลจากไฟล์\n",
    "จุดประสงค์: เรียนรู้การโหลดข้อมูลจากไฟล์ CSV ด้วย pandas และ NumPy"
   ]
  },
  {
   "cell_type": "markdown",
   "id": "fb89d662-a12a-4a62-b466-b4ff29b05102",
   "metadata": {},
   "source": [
    "**1. ไฟล์ CSV คืออะไร**\n",
    "\n",
    "- CSV = Comma-Separated Values\n",
    "- เป็นไฟล์ข้อความธรรมดาที่ใช้เครื่องหมายคอมมา (`,`) หรือเครื่องหมายอื่น เช่น `;` แยกค่าข้อมูล\n",
    "- เหมาะสำหรับเก็บข้อมูลตาราง เช่น Excel แต่เบากว่าและอ่านได้ด้วย text editor"
   ]
  },
  {
   "cell_type": "markdown",
   "id": "a0a28fe3-f3b7-4860-9844-8a4d1543c0bb",
   "metadata": {},
   "source": [
    "2. โหลดข้อมูลด้วย pandas"
   ]
  },
  {
   "cell_type": "code",
   "execution_count": 3,
   "id": "4709b5d4-0d17-4aa1-bf47-2bc704702d25",
   "metadata": {},
   "outputs": [],
   "source": [
    "import pandas as pd"
   ]
  },
  {
   "cell_type": "markdown",
   "id": "45a78020-3d5a-4c59-9ea5-3960f3f86273",
   "metadata": {},
   "source": [
    "## วิธีทดสอบโหลดไฟล์\n",
    "\n",
    "**ด้วย pandas**"
   ]
  },
  {
   "cell_type": "code",
   "execution_count": 5,
   "id": "457886cc-0a60-4671-a578-5da7af2c9095",
   "metadata": {},
   "outputs": [
    {
     "name": "stdout",
     "output_type": "stream",
     "text": [
      "   Day  Temperature  Humidity\n",
      "0    1         32.5        65\n",
      "1    2         33.0        60\n",
      "2    3         31.8        70\n",
      "3    4         34.2        55\n",
      "4    5         35.0        50\n"
     ]
    }
   ],
   "source": [
    "df = pd.read_csv(\"data.csv\")\n",
    "print(df.head())"
   ]
  },
  {
   "cell_type": "markdown",
   "id": "020b6f4e-a29f-4de1-94f7-67adfd0c78c2",
   "metadata": {},
   "source": [
    "## วิธีทดสอบโหลดไฟล์\n",
    "\n",
    "**ด้วย NumPy**"
   ]
  },
  {
   "cell_type": "code",
   "execution_count": 7,
   "id": "92246154-ab39-43c7-9782-ace9c2dfa617",
   "metadata": {},
   "outputs": [
    {
     "name": "stdout",
     "output_type": "stream",
     "text": [
      "[[ 1.  32.5 65. ]\n",
      " [ 2.  33.  60. ]\n",
      " [ 3.  31.8 70. ]\n",
      " [ 4.  34.2 55. ]\n",
      " [ 5.  35.  50. ]\n",
      " [ 6.  33.5 58. ]\n",
      " [ 7.  32.  62. ]]\n"
     ]
    }
   ],
   "source": [
    "import numpy as np\n",
    "\n",
    "data = np.loadtxt(\"data.csv\", delimiter=\",\", skiprows=1)\n",
    "print(data)"
   ]
  },
  {
   "cell_type": "markdown",
   "id": "2b14ea15-ea65-4151-841a-b1d31a68e3d4",
   "metadata": {},
   "source": [
    "2. โหลดข้อมูลด้วย pandas"
   ]
  },
  {
   "cell_type": "code",
   "execution_count": 8,
   "id": "9bec6cf4-f4eb-421b-8a9e-4a98172e58f8",
   "metadata": {},
   "outputs": [
    {
     "name": "stdout",
     "output_type": "stream",
     "text": [
      "   Day  Temperature  Humidity\n",
      "0    1         32.5        65\n",
      "1    2         33.0        60\n",
      "2    3         31.8        70\n",
      "3    4         34.2        55\n",
      "4    5         35.0        50\n"
     ]
    }
   ],
   "source": [
    "import pandas as pd\n",
    "\n",
    "# โหลดไฟล์ CSV\n",
    "df = pd.read_csv(\"data.csv\")\n",
    "\n",
    "# แสดงข้อมูล 5 แถวแรก\n",
    "print(df.head())"
   ]
  },
  {
   "cell_type": "code",
   "execution_count": 9,
   "id": "d0181254-2645-40c5-8f71-8db9b2f6c2fc",
   "metadata": {},
   "outputs": [
    {
     "name": "stdout",
     "output_type": "stream",
     "text": [
      "จำนวนแถวและคอลัมน์: (7, 3)\n"
     ]
    }
   ],
   "source": [
    "# ตรวจสอบขนาดข้อมูล\n",
    "print(\"จำนวนแถวและคอลัมน์:\", df.shape)"
   ]
  },
  {
   "cell_type": "code",
   "execution_count": 10,
   "id": "c6a1b873-e62a-4b67-8655-618937ea5f85",
   "metadata": {},
   "outputs": [
    {
     "name": "stdout",
     "output_type": "stream",
     "text": [
      "คอลัมน์: Index(['Day', 'Temperature', 'Humidity'], dtype='object')\n"
     ]
    }
   ],
   "source": [
    "# ดูชื่อคอลัมน์\n",
    "print(\"คอลัมน์:\", df.columns)"
   ]
  },
  {
   "cell_type": "markdown",
   "id": "d00dc151-5e1d-4ac1-9842-90528e7102d6",
   "metadata": {},
   "source": [
    "3. โหลดข้อมูลด้วย NumPy"
   ]
  },
  {
   "cell_type": "code",
   "execution_count": 11,
   "id": "f5a26928-7c64-4ae1-83c4-4bb8a5d7b310",
   "metadata": {},
   "outputs": [],
   "source": [
    "import numpy as np\n",
    "\n",
    "# โหลดข้อมูล (ไม่มี header)\n",
    "data = np.loadtxt(\"data.csv\", delimiter=\",\", skiprows=1)"
   ]
  },
  {
   "cell_type": "code",
   "execution_count": 12,
   "id": "961ff4c5-7141-4d3f-b332-3aa54a5ad308",
   "metadata": {},
   "outputs": [
    {
     "name": "stdout",
     "output_type": "stream",
     "text": [
      "[[ 1.  32.5 65. ]\n",
      " [ 2.  33.  60. ]\n",
      " [ 3.  31.8 70. ]\n",
      " [ 4.  34.2 55. ]\n",
      " [ 5.  35.  50. ]]\n",
      "Shape: (7, 3)\n"
     ]
    }
   ],
   "source": [
    "print(data[:5])  # แสดง 5 แถวแรก\n",
    "print(\"Shape:\", data.shape)"
   ]
  },
  {
   "cell_type": "markdown",
   "id": "d6c75a7e-1085-49ae-ac40-a9a9ef8e299d",
   "metadata": {},
   "source": [
    "4. การเลือกคอลัมน์และแถว"
   ]
  },
  {
   "cell_type": "code",
   "execution_count": 16,
   "id": "63f61d6b-d91e-43b6-afba-b4431148553a",
   "metadata": {},
   "outputs": [
    {
     "name": "stdout",
     "output_type": "stream",
     "text": [
      "0    32.5\n",
      "1    33.0\n",
      "2    31.8\n",
      "3    34.2\n",
      "4    35.0\n",
      "5    33.5\n",
      "6    32.0\n",
      "Name: Temperature, dtype: float64\n"
     ]
    }
   ],
   "source": [
    "# Pandas\n",
    "print(df[\"Temperature\"])  # เลือกคอลัมน์ Temperature"
   ]
  },
  {
   "cell_type": "code",
   "execution_count": 17,
   "id": "92e15771-9c96-4709-b0dd-28a999fd7fa0",
   "metadata": {},
   "outputs": [
    {
     "name": "stdout",
     "output_type": "stream",
     "text": [
      "Day             1.0\n",
      "Temperature    32.5\n",
      "Humidity       65.0\n",
      "Name: 0, dtype: float64\n"
     ]
    }
   ],
   "source": [
    "print(df.iloc[0])         # เลือกแถวแรก"
   ]
  },
  {
   "cell_type": "code",
   "execution_count": 18,
   "id": "081edf38-64ed-4f84-8769-9d505a0c9ebc",
   "metadata": {},
   "outputs": [
    {
     "name": "stdout",
     "output_type": "stream",
     "text": [
      "[1. 2. 3. 4. 5. 6. 7.]\n"
     ]
    }
   ],
   "source": [
    "# NumPy\n",
    "print(data[:, 0])  # คอลัมน์แรก"
   ]
  },
  {
   "cell_type": "code",
   "execution_count": 19,
   "id": "32da0171-d388-4b76-99a2-b977f9e7238e",
   "metadata": {},
   "outputs": [
    {
     "name": "stdout",
     "output_type": "stream",
     "text": [
      "[ 1.  32.5 65. ]\n"
     ]
    }
   ],
   "source": [
    "print(data[0, :])  # แถวแรก"
   ]
  },
  {
   "cell_type": "markdown",
   "id": "c6ae2232-d29c-4e01-8d1e-28f9916c5aa0",
   "metadata": {},
   "source": [
    "**5. การประยุกต์ใช้จริง**\n",
    "\n",
    "- โหลดข้อมูลอุณหภูมิและ plot กราฟ"
   ]
  },
  {
   "cell_type": "code",
   "execution_count": 21,
   "id": "95c0a9ff-329f-46ba-a004-eb51877f64e9",
   "metadata": {},
   "outputs": [],
   "source": [
    "import matplotlib.pyplot as plt\n",
    "\n",
    "df = pd.read_csv(\"temperature.csv\")"
   ]
  },
  {
   "cell_type": "code",
   "execution_count": 22,
   "id": "6f07b28d-2b1d-4520-8f5f-a222da37bbb5",
   "metadata": {},
   "outputs": [
    {
     "data": {
      "image/png": "[encoded data removed]",
      "text/plain": [
       "<Figure size 640x480 with 1 Axes>"
      ]
     },
     "metadata": {},
     "output_type": "display_data"
    }
   ],
   "source": [
    "plt.plot(df[\"Day\"], df[\"Temperature\"], marker='o')\n",
    "plt.xlabel(\"Day\")\n",
    "plt.ylabel(\"Temperature (°C)\")\n",
    "plt.title(\"Daily Temperature\")\n",
    "plt.grid(True)\n",
    "plt.show()"
   ]
  }
 ],
 "metadata": {
  "kernelspec": {
   "display_name": "Python 3 (ipykernel)",
   "language": "python",
   "name": "python3"
  },
  "language_info": {
   "codemirror_mode": {
    "name": "ipython",
    "version": 3
   },
   "file_extension": ".py",
   "mimetype": "text/x-python",
   "name": "python",
   "nbconvert_exporter": "python",
   "pygments_lexer": "ipython3",
   "version": "3.13.5"
  }
 },
 "nbformat": 4,
 "nbformat_minor": 5
}
