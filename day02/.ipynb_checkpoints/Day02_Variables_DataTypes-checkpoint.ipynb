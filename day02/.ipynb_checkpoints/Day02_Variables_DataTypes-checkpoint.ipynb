{
 "cells": [
  {
   "cell_type": "markdown",
   "id": "74f6d63b-1d13-429e-96c1-4318f6a350fd",
   "metadata": {},
   "source": [
    "# Day 02 - Variables & Data Types"
   ]
  },
  {
   "cell_type": "code",
   "execution_count": 5,
   "id": "6df69ceb-89e4-4c31-b0df-122742b5bca9",
   "metadata": {},
   "outputs": [
    {
     "name": "stdout",
     "output_type": "stream",
     "text": [
      "Name: Warathep\n",
      "Age: 25\n",
      "Height: 1.75\n",
      "Is Student? True\n"
     ]
    }
   ],
   "source": [
    "# เก็บตัวเลข\n",
    "age = 25\n",
    "height = 1.75\n",
    "\n",
    "# เก็บข้อความ\n",
    "name = \"Warathep\"\n",
    "\n",
    "# เก็บค่าจริง/เท็จ\n",
    "is_student = True\n",
    "\n",
    "# แสดงผล\n",
    "print(\"Name:\", name)\n",
    "print(\"Age:\", age)\n",
    "print(\"Height:\", height)\n",
    "print(\"Is Student?\", is_student)"
   ]
  }
 ],
 "metadata": {
  "kernelspec": {
   "display_name": "Python 3 (ipykernel)",
   "language": "python",
   "name": "python3"
  },
  "language_info": {
   "codemirror_mode": {
    "name": "ipython",
    "version": 3
   },
   "file_extension": ".py",
   "mimetype": "text/x-python",
   "name": "python",
   "nbconvert_exporter": "python",
   "pygments_lexer": "ipython3",
   "version": "3.13.5"
  }
 },
 "nbformat": 4,
 "nbformat_minor": 5
}
